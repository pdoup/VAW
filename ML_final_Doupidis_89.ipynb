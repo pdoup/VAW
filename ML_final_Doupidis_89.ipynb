{
 "cells": [
  {
   "cell_type": "code",
   "execution_count": 1,
   "id": "ec5c85a6-b240-49a3-96ec-7821cd3ceeeb",
   "metadata": {},
   "outputs": [],
   "source": [
    "import pandas as pd\n",
    "import numpy as np\n",
    "import seaborn as sns\n",
    "import matplotlib.pyplot as plt\n",
    "\n",
    "from sklearn.model_selection import train_test_split, GridSearchCV\n",
    "from sklearn.impute import SimpleImputer\n",
    "from sklearn.metrics import f1_score, classification_report, confusion_matrix\n",
    "from sklearn.preprocessing import OneHotEncoder, LabelEncoder, StandardScaler\n",
    "from sklearn.compose import ColumnTransformer\n",
    "from sklearn.tree import DecisionTreeClassifier\n",
    "from sklearn.neighbors import KNeighborsClassifier\n",
    "from sklearn.neural_network import MLPClassifier\n",
    "from sklearn.linear_model import LogisticRegression\n",
    "from sklearn.discriminant_analysis import LinearDiscriminantAnalysis\n",
    "from sklearn.ensemble import BaggingClassifier, RandomForestClassifier, GradientBoostingClassifier, AdaBoostClassifier\n",
    "from sklearn.svm import SVC, NuSVC\n",
    "from xgboost import XGBClassifier\n",
    "from sklearn.multioutput import MultiOutputClassifier"
   ]
  },
  {
   "cell_type": "code",
   "execution_count": 2,
   "id": "2d8f6126-eeb1-4d90-a796-08eba50d2ea9",
   "metadata": {},
   "outputs": [],
   "source": [
    "# Read the datafile\n",
    "df = pd.read_csv(\"VAW.csv\", na_values=[\" \", \"_T: Any\"], encoding=\"utf-8\")"
   ]
  },
  {
   "cell_type": "markdown",
   "id": "32f21c8e-29bd-4573-9620-c4d557d90ab1",
   "metadata": {
    "tags": []
   },
   "source": [
    "#### Preprocessing"
   ]
  },
  {
   "cell_type": "code",
   "execution_count": 3,
   "id": "966bcd31-853e-4a12-b998-d79d384660be",
   "metadata": {},
   "outputs": [],
   "source": [
    "df.columns = df.columns.map(lambda x : x.split(\":\")[0])"
   ]
  },
  {
   "cell_type": "code",
   "execution_count": 4,
   "id": "35b51719-3506-49d8-8b52-0c55a041529a",
   "metadata": {},
   "outputs": [],
   "source": [
    "df.replace(to_replace=r\"\\:(.*)\", value=\"\", inplace=True, regex=True)"
   ]
  },
  {
   "cell_type": "code",
   "execution_count": 5,
   "id": "291899ec-74d5-48c5-8821-bf4bd28cc457",
   "metadata": {},
   "outputs": [],
   "source": [
    "df[\"TIME_PERIOD\"] = pd.to_datetime(arg=df[\"TIME_PERIOD\"], format=\"%Y\")\n",
    "df[\"OBS_VALUE\"] = pd.to_numeric(arg=df[\"OBS_VALUE\"])\n",
    "\n",
    "object_colnames = df.select_dtypes(include=\"object\").columns\n",
    "df[object_colnames] = df[object_colnames].astype(\"category\")"
   ]
  },
  {
   "cell_type": "code",
   "execution_count": 6,
   "id": "687412ce-baf0-4f21-aee8-fce46df40c0c",
   "metadata": {},
   "outputs": [
    {
     "data": {
      "text/html": [
       "<div>\n",
       "<style scoped>\n",
       "    .dataframe tbody tr th:only-of-type {\n",
       "        vertical-align: middle;\n",
       "    }\n",
       "\n",
       "    .dataframe tbody tr th {\n",
       "        vertical-align: top;\n",
       "    }\n",
       "\n",
       "    .dataframe thead th {\n",
       "        text-align: right;\n",
       "    }\n",
       "</style>\n",
       "<table border=\"1\" class=\"dataframe\">\n",
       "  <thead>\n",
       "    <tr style=\"text-align: right;\">\n",
       "      <th></th>\n",
       "      <th>DATAFLOW</th>\n",
       "      <th>FREQ</th>\n",
       "      <th>TIME_PERIOD</th>\n",
       "      <th>GEO_PICT</th>\n",
       "      <th>TOPIC</th>\n",
       "      <th>INDICATOR</th>\n",
       "      <th>SEX</th>\n",
       "      <th>AGE</th>\n",
       "      <th>CONDITION</th>\n",
       "      <th>VIOLENCE_TYPE</th>\n",
       "      <th>...</th>\n",
       "      <th>OUTCOME</th>\n",
       "      <th>RESPONSE</th>\n",
       "      <th>HELP_REASON</th>\n",
       "      <th>HELP_PROVIDER</th>\n",
       "      <th>OBS_VALUE</th>\n",
       "      <th>UNIT_MEASURE</th>\n",
       "      <th>UNIT_MULT</th>\n",
       "      <th>OBS_STATUS</th>\n",
       "      <th>DATA_SOURCE</th>\n",
       "      <th>OBS_COMMENT</th>\n",
       "    </tr>\n",
       "  </thead>\n",
       "  <tbody>\n",
       "    <tr>\n",
       "      <th>0</th>\n",
       "      <td>SPC</td>\n",
       "      <td>A</td>\n",
       "      <td>2013-01-01</td>\n",
       "      <td>CK</td>\n",
       "      <td>VAW_TOPIC_001</td>\n",
       "      <td>NUMPERRF</td>\n",
       "      <td>F</td>\n",
       "      <td>Y15T64</td>\n",
       "      <td>EVPART</td>\n",
       "      <td>CONT_ECON</td>\n",
       "      <td>...</td>\n",
       "      <td>NaN</td>\n",
       "      <td>NaN</td>\n",
       "      <td>NaN</td>\n",
       "      <td>NaN</td>\n",
       "      <td>6.2</td>\n",
       "      <td>PERCENT</td>\n",
       "      <td>NaN</td>\n",
       "      <td>NaN</td>\n",
       "      <td>FHSS</td>\n",
       "      <td>NaN</td>\n",
       "    </tr>\n",
       "    <tr>\n",
       "      <th>1</th>\n",
       "      <td>SPC</td>\n",
       "      <td>A</td>\n",
       "      <td>2013-01-01</td>\n",
       "      <td>CK</td>\n",
       "      <td>VAW_TOPIC_001</td>\n",
       "      <td>NUMPERRF</td>\n",
       "      <td>F</td>\n",
       "      <td>Y15T64</td>\n",
       "      <td>EVPART</td>\n",
       "      <td>EMO</td>\n",
       "      <td>...</td>\n",
       "      <td>NaN</td>\n",
       "      <td>NaN</td>\n",
       "      <td>NaN</td>\n",
       "      <td>NaN</td>\n",
       "      <td>9.6</td>\n",
       "      <td>PERCENT</td>\n",
       "      <td>NaN</td>\n",
       "      <td>NaN</td>\n",
       "      <td>FHSS</td>\n",
       "      <td>NaN</td>\n",
       "    </tr>\n",
       "    <tr>\n",
       "      <th>2</th>\n",
       "      <td>SPC</td>\n",
       "      <td>A</td>\n",
       "      <td>2013-01-01</td>\n",
       "      <td>CK</td>\n",
       "      <td>VAW_TOPIC_001</td>\n",
       "      <td>NUMPERRF</td>\n",
       "      <td>F</td>\n",
       "      <td>Y15T64</td>\n",
       "      <td>EVPART</td>\n",
       "      <td>EMO</td>\n",
       "      <td>...</td>\n",
       "      <td>NaN</td>\n",
       "      <td>NaN</td>\n",
       "      <td>NaN</td>\n",
       "      <td>NaN</td>\n",
       "      <td>26.7</td>\n",
       "      <td>PERCENT</td>\n",
       "      <td>NaN</td>\n",
       "      <td>NaN</td>\n",
       "      <td>FHSS</td>\n",
       "      <td>NaN</td>\n",
       "    </tr>\n",
       "    <tr>\n",
       "      <th>3</th>\n",
       "      <td>SPC</td>\n",
       "      <td>A</td>\n",
       "      <td>2013-01-01</td>\n",
       "      <td>CK</td>\n",
       "      <td>VAW_TOPIC_001</td>\n",
       "      <td>NUMPERRF</td>\n",
       "      <td>F</td>\n",
       "      <td>Y15T64</td>\n",
       "      <td>EVPART</td>\n",
       "      <td>PHYS</td>\n",
       "      <td>...</td>\n",
       "      <td>NaN</td>\n",
       "      <td>NaN</td>\n",
       "      <td>NaN</td>\n",
       "      <td>NaN</td>\n",
       "      <td>6.7</td>\n",
       "      <td>PERCENT</td>\n",
       "      <td>NaN</td>\n",
       "      <td>NaN</td>\n",
       "      <td>FHSS</td>\n",
       "      <td>NaN</td>\n",
       "    </tr>\n",
       "    <tr>\n",
       "      <th>4</th>\n",
       "      <td>SPC</td>\n",
       "      <td>A</td>\n",
       "      <td>2013-01-01</td>\n",
       "      <td>CK</td>\n",
       "      <td>VAW_TOPIC_001</td>\n",
       "      <td>NUMPERRF</td>\n",
       "      <td>F</td>\n",
       "      <td>Y15T64</td>\n",
       "      <td>EVPART</td>\n",
       "      <td>PHYS</td>\n",
       "      <td>...</td>\n",
       "      <td>NaN</td>\n",
       "      <td>NaN</td>\n",
       "      <td>NaN</td>\n",
       "      <td>NaN</td>\n",
       "      <td>30.2</td>\n",
       "      <td>PERCENT</td>\n",
       "      <td>NaN</td>\n",
       "      <td>NaN</td>\n",
       "      <td>FHSS</td>\n",
       "      <td>NaN</td>\n",
       "    </tr>\n",
       "  </tbody>\n",
       "</table>\n",
       "<p>5 rows × 23 columns</p>\n",
       "</div>"
      ],
      "text/plain": [
       "  DATAFLOW FREQ TIME_PERIOD GEO_PICT          TOPIC INDICATOR SEX     AGE  \\\n",
       "0      SPC    A  2013-01-01       CK  VAW_TOPIC_001  NUMPERRF   F  Y15T64   \n",
       "1      SPC    A  2013-01-01       CK  VAW_TOPIC_001  NUMPERRF   F  Y15T64   \n",
       "2      SPC    A  2013-01-01       CK  VAW_TOPIC_001  NUMPERRF   F  Y15T64   \n",
       "3      SPC    A  2013-01-01       CK  VAW_TOPIC_001  NUMPERRF   F  Y15T64   \n",
       "4      SPC    A  2013-01-01       CK  VAW_TOPIC_001  NUMPERRF   F  Y15T64   \n",
       "\n",
       "  CONDITION VIOLENCE_TYPE  ... OUTCOME RESPONSE HELP_REASON HELP_PROVIDER  \\\n",
       "0    EVPART     CONT_ECON  ...     NaN      NaN         NaN           NaN   \n",
       "1    EVPART           EMO  ...     NaN      NaN         NaN           NaN   \n",
       "2    EVPART           EMO  ...     NaN      NaN         NaN           NaN   \n",
       "3    EVPART          PHYS  ...     NaN      NaN         NaN           NaN   \n",
       "4    EVPART          PHYS  ...     NaN      NaN         NaN           NaN   \n",
       "\n",
       "  OBS_VALUE UNIT_MEASURE UNIT_MULT  OBS_STATUS DATA_SOURCE  OBS_COMMENT  \n",
       "0       6.2      PERCENT       NaN         NaN        FHSS          NaN  \n",
       "1       9.6      PERCENT       NaN         NaN        FHSS          NaN  \n",
       "2      26.7      PERCENT       NaN         NaN        FHSS          NaN  \n",
       "3       6.7      PERCENT       NaN         NaN        FHSS          NaN  \n",
       "4      30.2      PERCENT       NaN         NaN        FHSS          NaN  \n",
       "\n",
       "[5 rows x 23 columns]"
      ]
     },
     "execution_count": 6,
     "metadata": {},
     "output_type": "execute_result"
    }
   ],
   "source": [
    "df.head(5)"
   ]
  },
  {
   "cell_type": "code",
   "execution_count": 7,
   "id": "481b7ffc-ccba-4f36-8ff4-00eddeefd495",
   "metadata": {},
   "outputs": [],
   "source": [
    "# Dataframe without missing values on OUTCOME\n",
    "\n",
    "df_train = df.dropna(subset=[\"OUTCOME\"]).copy()"
   ]
  },
  {
   "cell_type": "markdown",
   "id": "7d5c68e7-f4b9-414b-a9ea-8ad1a84a19e5",
   "metadata": {},
   "source": [
    "#### Some more preprocessing to discard columns with NA's"
   ]
  },
  {
   "cell_type": "code",
   "execution_count": 8,
   "id": "ed2cc460-9dfa-469c-bc5c-cb91e3054f0e",
   "metadata": {
    "tags": []
   },
   "outputs": [
    {
     "name": "stdout",
     "output_type": "stream",
     "text": [
      "Keep columns that have at least 108 non NA rows\n"
     ]
    }
   ],
   "source": [
    "# Filter features > 80% NA's\n",
    "\n",
    "print(\"Keep columns that have at least\", np.int16(df_train.shape[0]*.2), \"non NA rows\")\n",
    "df_train = df_train.dropna(axis=1, thresh=np.int16(df_train.shape[0]*.2)).copy()"
   ]
  },
  {
   "cell_type": "code",
   "execution_count": 9,
   "id": "cd173d6d-625a-4ad5-a33a-ab2a5dc3c05b",
   "metadata": {},
   "outputs": [],
   "source": [
    "# Omit columns that have the same value in all rows\n",
    "\n",
    "df_train = df_train[df_train.columns[df_train.nunique() > 1]]"
   ]
  },
  {
   "cell_type": "code",
   "execution_count": 10,
   "id": "b1ad2e27-7d12-413d-9dd6-d2a62e972066",
   "metadata": {},
   "outputs": [],
   "source": [
    "# Drop time period\n",
    "year_df_train = pd.concat([df[\"TIME_PERIOD\"], df[\"OUTCOME\"], df[\"OBS_VALUE\"]],axis=1, ignore_index=False)\n",
    "\n",
    "df_train = df_train.drop(columns=[\"TIME_PERIOD\"])"
   ]
  },
  {
   "cell_type": "code",
   "execution_count": 11,
   "id": "2aee31ad-3c5e-4c7e-8a67-c3029b3e9d97",
   "metadata": {},
   "outputs": [],
   "source": [
    "X, y = df_train.drop(columns=[\"OUTCOME\"]), df_train[\"OUTCOME\"]"
   ]
  },
  {
   "cell_type": "code",
   "execution_count": 12,
   "id": "cdc31127-d053-4e5b-a834-d8bd1e62fbb5",
   "metadata": {},
   "outputs": [],
   "source": [
    "# Condense categories to just the 5 most important\n",
    "\n",
    "#map_new_cat_s = {\"Health\" : ['HEALTHAFF', 'HEALTHSTA', 'HURT', 'INJ', 'LOSCONS', 'PAIN',\n",
    "#                            'PROBMEM', 'PROBUSUAL', 'PROBWALK'],\n",
    "#                        \"Children\" : ['AL1CHILDAGGR', 'AL1CHILDBEDW', 'AL1CHILDDSCH',\n",
    "#                                     'AL1CHILDNIGHT', 'AL1CHILDQUIET', 'AL1CHILDRSCH'],\n",
    "#                        \"Mental\" : ['EMODIST', 'SUICIDEATT', 'SUICIDETHI', 'LOSCONF'],\n",
    "#                        \"Work\" : ['WORK', 'CONCENTRATE', 'DISWORK'],\n",
    "#                        \"Reproduce\" : ['ABOR', 'MISC', 'STILB']}\n",
    "\n",
    "#s = pd.Series(map_new_cat_s).explode().sort_values()\n",
    "\n",
    "#y = y.map(dict(zip(s.values, s.index))).astype(\"category\")"
   ]
  },
  {
   "cell_type": "markdown",
   "id": "96d0690c-f750-47cc-9796-0bbc2f26eb68",
   "metadata": {},
   "source": [
    "#### Some plots"
   ]
  },
  {
   "cell_type": "code",
   "execution_count": 13,
   "id": "5e8f968e-6e7f-4de0-a177-d34e0cb14a51",
   "metadata": {},
   "outputs": [
    {
     "data": {
      "image/png": "[encoded data removed]",
      "text/plain": [
       "<Figure size 648x432 with 1 Axes>"
      ]
     },
     "metadata": {
      "needs_background": "light"
     },
     "output_type": "display_data"
    }
   ],
   "source": [
    "sns.catplot(x=\"CONDITION\", y=\"OBS_VALUE\", kind=\"box\", palette=\"pastel\", data=df_train, width=.6,height=6, aspect=1.5) \\\n",
    "    .set(title=\"% Help value with Condition\")\n",
    "plt.show()"
   ]
  },
  {
   "cell_type": "code",
   "execution_count": 14,
   "id": "e1d4087b-e6c5-484f-8c66-01bfd0627d5d",
   "metadata": {},
   "outputs": [
    {
     "data": {
      "image/png": "[encoded data removed]",
      "text/plain": [
       "<Figure size 720x576 with 1 Axes>"
      ]
     },
     "metadata": {
      "needs_background": "light"
     },
     "output_type": "display_data"
    }
   ],
   "source": [
    "ax = y.value_counts(normalize=False, ascending=True).plot.barh(figsize=(10,8), width=.65, align=\"center\",\n",
    "                                                             color=\"brown\")\n",
    "\n",
    "ax.set_xticks(np.arange(0,100, 10))\n",
    "ax.set_xlabel(\"Count\")\n",
    "ax.set_title(\"Violence Outcomes in absolute numbers\", fontsize=14)\n",
    "plt.show()"
   ]
  },
  {
   "cell_type": "code",
   "execution_count": 15,
   "id": "24d31793-385f-4c76-bfb1-6a564caf075f",
   "metadata": {},
   "outputs": [
    {
     "data": {
      "image/png": "[encoded data removed]",
      "text/plain": [
       "<Figure size 648x432 with 1 Axes>"
      ]
     },
     "metadata": {
      "needs_background": "light"
     },
     "output_type": "display_data"
    }
   ],
   "source": [
    "sns.catplot(x=\"ACTUALITY\", y=\"OBS_VALUE\", kind=\"violin\", inner=\"point\", bw=\"scott\", palette=\"pastel\", scale=\"count\", data=df_train, width=.6,height=6, aspect=1.5) \\\n",
    "    .set(title=\"% Help value with Actuality\")\n",
    "plt.show()"
   ]
  },
  {
   "cell_type": "code",
   "execution_count": 16,
   "id": "89c0e148-5d81-48d7-8843-2aaeca62f725",
   "metadata": {},
   "outputs": [
    {
     "data": {
      "image/png": "[encoded data removed]",
      "text/plain": [
       "<Figure size 648x432 with 1 Axes>"
      ]
     },
     "metadata": {
      "needs_background": "light"
     },
     "output_type": "display_data"
    }
   ],
   "source": [
    "sns.catplot(x=\"GEO_PICT\", data=df_train, palette=\"dark\", kind=\"count\", height=6, aspect=1.5) \\\n",
    "        .set(title=\"Count by Country\")\n",
    "plt.show()"
   ]
  },
  {
   "cell_type": "code",
   "execution_count": 17,
   "id": "73f19b28-c3bc-4ab6-8921-56d7f7b7ce61",
   "metadata": {},
   "outputs": [],
   "source": [
    "# Prepare dataframe to print year only\n",
    "\n",
    "year_df_train = year_df_train[year_df_train[\"OUTCOME\"].notna()]\n",
    "year_df_train[\"TIME_PERIOD\"] = year_df_train[\"TIME_PERIOD\"].dt.year.copy()"
   ]
  },
  {
   "cell_type": "code",
   "execution_count": 18,
   "id": "92fb2556-c4c0-4a41-b769-02af5dfa07ad",
   "metadata": {},
   "outputs": [
    {
     "data": {
      "image/png": "[encoded data removed]",
      "text/plain": [
       "<Figure size 648x432 with 1 Axes>"
      ]
     },
     "metadata": {
      "needs_background": "light"
     },
     "output_type": "display_data"
    }
   ],
   "source": [
    "sns.catplot(x=\"TIME_PERIOD\", data=year_df_train, palette=\"deep\", kind=\"count\", height=6, aspect=1.5) \\\n",
    "        .set(title=\"VAW by Year\")\n",
    "plt.show()"
   ]
  },
  {
   "cell_type": "code",
   "execution_count": 19,
   "id": "5537afde-f023-4425-9a90-996a1569df67",
   "metadata": {},
   "outputs": [
    {
     "data": {
      "image/png": "[encoded data removed]",
      "text/plain": [
       "<Figure size 856.8x504 with 1 Axes>"
      ]
     },
     "metadata": {},
     "output_type": "display_data"
    }
   ],
   "source": [
    "sns.set_style(\"whitegrid\")\n",
    "sns.catplot(x=\"TIME_PERIOD\", y=\"OBS_VALUE\", data=year_df_train, palette=\"muted\", kind=\"boxen\",\n",
    "            height=7, aspect=1.7, width=.65,linewidth=1.7, saturation=0.8) \\\n",
    "        .set(title=\"Help Values by Year\")\n",
    "plt.show()"
   ]
  },
  {
   "cell_type": "code",
   "execution_count": 20,
   "id": "7c8dd5ca-294b-4e04-894a-7cc82e1ff314",
   "metadata": {},
   "outputs": [
    {
     "data": {
      "image/png": "[encoded data removed]",
      "text/plain": [
       "<Figure size 514.8x468 with 1 Axes>"
      ]
     },
     "metadata": {},
     "output_type": "display_data"
    }
   ],
   "source": [
    "sns.catplot(kind=\"bar\", x=\"HELP_REASON\", y=\"OBS_VALUE\", data=df, palette=\"Blues_d\", orient=\"v\", height=6.5, aspect=1.1,\n",
    "          ci=\"sd\", capsize=.25 ,errwidth=1.5, errcolor=\"brown\")\n",
    "\n",
    "plt.title(\"Help value in conjuction with Help Reason\", fontdict={'size':14, 'weight' : 'bold'})\n",
    "plt.show()"
   ]
  },
  {
   "cell_type": "code",
   "execution_count": 21,
   "id": "c11b3491-dd16-488b-b1f1-1a45ce6a1b93",
   "metadata": {},
   "outputs": [
    {
     "data": {
      "image/png": "[encoded data removed]",
      "text/plain": [
       "<Figure size 633.6x576 with 1 Axes>"
      ]
     },
     "metadata": {},
     "output_type": "display_data"
    }
   ],
   "source": [
    "sns.catplot(kind=\"bar\", x=\"RESPONSE\", y=\"OBS_VALUE\", data=df, palette=\"Blues_d\", orient=\"v\", height=8, aspect=1.1,\n",
    "          ci=\"sd\", capsize=.25 ,errwidth=1.5, errcolor=\"brown\")\n",
    "\n",
    "plt.title(\"Help value in conjuction with Woman's Response towards violence\", fontdict={'size':14})\n",
    "plt.show()"
   ]
  },
  {
   "cell_type": "code",
   "execution_count": 22,
   "id": "d8bb70f8-5a6c-46e9-b35b-b584287464f7",
   "metadata": {},
   "outputs": [],
   "source": [
    "X_train, X_test, y_train, y_test = train_test_split(X, y, random_state=132, stratify=y)"
   ]
  },
  {
   "cell_type": "code",
   "execution_count": 23,
   "id": "af1547f4-eea1-4b1c-9ae1-65d6ebb8168f",
   "metadata": {},
   "outputs": [],
   "source": [
    "# Impute values\n",
    "\n",
    "imputer_numeric = SimpleImputer(strategy=\"median\")\n",
    "\n",
    "X_train[\"OBS_VALUE\"] = imputer_numeric.fit_transform(X_train[\"OBS_VALUE\"].values.reshape(-1,1))\n",
    "X_test[\"OBS_VALUE\"] = imputer_numeric.transform(X_test[\"OBS_VALUE\"].values.reshape(-1,1))"
   ]
  },
  {
   "cell_type": "code",
   "execution_count": 24,
   "id": "ba846c2a-0e6c-4354-891a-56bad36668c0",
   "metadata": {},
   "outputs": [],
   "source": [
    "# Fill NA categorical features with \"NA\"\n",
    "\n",
    "imputer = SimpleImputer(strategy=\"constant\", fill_value=\"NA\")\n",
    "\n",
    "X_train = pd.DataFrame(imputer.fit_transform(X_train), columns=X.columns)\n",
    "X_test =  pd.DataFrame(imputer.transform(X_test), columns=X.columns)"
   ]
  },
  {
   "cell_type": "code",
   "execution_count": 25,
   "id": "0a41a965-0154-4bba-ba9d-b17db2528957",
   "metadata": {},
   "outputs": [],
   "source": [
    "# One-Hot encode and scale numeric values\n",
    "\n",
    "categorical_cols = X.select_dtypes(exclude=\"float\").columns\n",
    "numeric_cols = X.select_dtypes(include=\"float\").columns\n",
    "\n",
    "col_transformer_train = ColumnTransformer([('cat_cols', OneHotEncoder(handle_unknown=\"ignore\"), categorical_cols),\n",
    "                                ('num_cols', StandardScaler(), numeric_cols)])\n",
    "\n",
    "X_train = col_transformer_train.fit_transform(X_train).toarray()\n",
    "X_test = col_transformer_train.transform(X_test).toarray()"
   ]
  },
  {
   "cell_type": "code",
   "execution_count": 26,
   "id": "549ff758-e75a-4a04-84e1-5aa8dbc20bbc",
   "metadata": {},
   "outputs": [],
   "source": [
    "# Label encoder y\n",
    "\n",
    "le = LabelEncoder()\n",
    "\n",
    "le.fit(y)\n",
    "\n",
    "y_train = le.transform(y_train)\n",
    "y_test = le.transform(y_test)"
   ]
  },
  {
   "cell_type": "markdown",
   "id": "87d16bea-70c5-4ff3-963e-a8de8d639740",
   "metadata": {},
   "source": [
    "#### Run ML Algos"
   ]
  },
  {
   "cell_type": "markdown",
   "id": "6d606eb7-2eeb-4350-a4ea-08996d60e90e",
   "metadata": {},
   "source": [
    "##### Decision Trees"
   ]
  },
  {
   "cell_type": "code",
   "execution_count": 27,
   "id": "a180d584-91e9-4249-9296-5be746c3320f",
   "metadata": {},
   "outputs": [
    {
     "name": "stdout",
     "output_type": "stream",
     "text": [
      "Fitting 5 folds for each of 1152 candidates, totalling 5760 fits\n",
      "{'criterion': 'entropy', 'max_depth': 5, 'max_features': 26, 'max_leaf_nodes': 11, 'min_impurity_decrease': 0.001, 'min_samples_leaf': 1}\n",
      "make_scorer(f1_score, pos_label=None, average=micro)\n",
      "Best cv score 0.3773261065943993\n",
      "F1 Score on held out data 0.3897058823529412\n"
     ]
    }
   ],
   "source": [
    "parameters = {'criterion':('gini', 'entropy'), 'max_features' : [20, 22, 24, 26], \"min_samples_leaf\":[1, 2],\n",
    "             'max_depth':[3, 4, 5, 6], 'max_leaf_nodes':[8, 9, 10, 11, 15, 20], \n",
    "              'min_impurity_decrease':[1e-3, 5e-2, 1e-2]}\n",
    "\n",
    "clf0 = GridSearchCV(DecisionTreeClassifier(random_state=132), parameters, scoring=\"f1_micro\", n_jobs=2, verbose=1)\n",
    "\n",
    "clf0.fit(X_train, y_train)\n",
    "\n",
    "print(clf0.best_params_)\n",
    "print(clf0.scorer_)\n",
    "print(\"Best cv score\", clf0.best_score_)\n",
    "print(\"F1 Score on held out data\", f1_score(y_test, clf0.predict(X_test), average=\"micro\"))\n",
    "\n",
    "#clf = DecisionTreeClassifier(criterion=\"gini\", random_state=132, max_features=23, min_samples_leaf=5, max_depth=6, \n",
    "#                                 max_leaf_nodes=15, min_impurity_decrease=.005)\n",
    "#clf.fit(X_train, y_train)\n",
    "#clf.score(X_test, y_test)"
   ]
  },
  {
   "cell_type": "code",
   "execution_count": 28,
   "id": "0dd45124-0a82-44e1-b9e6-82c8e2d21760",
   "metadata": {},
   "outputs": [
    {
     "name": "stdout",
     "output_type": "stream",
     "text": [
      "               precision    recall  f1-score   support\n",
      "\n",
      "         ABOR      0.571     0.500     0.533         8\n",
      " AL1CHILDAGGR      0.167     1.000     0.286         4\n",
      " AL1CHILDBEDW      0.000     0.000     0.000         4\n",
      " AL1CHILDDSCH      0.000     0.000     0.000         4\n",
      "AL1CHILDNIGHT      0.000     0.000     0.000         4\n",
      "AL1CHILDQUIET      0.000     0.000     0.000         4\n",
      " AL1CHILDRSCH      0.000     0.000     0.000         4\n",
      "  CONCENTRATE      0.250     1.000     0.400         4\n",
      "      DISWORK      0.000     0.000     0.000         4\n",
      "      EMODIST      0.000     0.000     0.000         4\n",
      "    HEALTHAFF      0.200     0.500     0.286         4\n",
      "    HEALTHSTA      0.000     0.000     0.000         4\n",
      "         HURT      0.000     0.000     0.000         4\n",
      "          INJ      0.955     0.875     0.913        24\n",
      "      LOSCONF      0.000     0.000     0.000         4\n",
      "      LOSCONS      0.571     1.000     0.727         8\n",
      "         MISC      0.471     1.000     0.640         8\n",
      "         PAIN      0.000     0.000     0.000         4\n",
      "      PROBMEM      0.000     0.000     0.000         4\n",
      "    PROBUSUAL      0.000     0.000     0.000         4\n",
      "     PROBWALK      0.000     0.000     0.000         4\n",
      "        STILB      0.000     0.000     0.000         8\n",
      "   SUICIDEATT      0.286     0.500     0.364         4\n",
      "   SUICIDETHI      0.000     0.000     0.000         4\n",
      "         WORK      0.000     0.000     0.000         4\n",
      "\n",
      "     accuracy                          0.390       136\n",
      "    macro avg      0.139     0.255     0.166       136\n",
      " weighted avg      0.290     0.390     0.312       136\n",
      "\n"
     ]
    }
   ],
   "source": [
    "print(classification_report(y_test, clf0.predict(X_test), target_names=y.cat.categories, \n",
    "                            digits=3, zero_division=0))"
   ]
  },
  {
   "cell_type": "markdown",
   "id": "adb63cc5-fea0-46fc-a49c-b53ad3908715",
   "metadata": {},
   "source": [
    "##### Logistic Regression"
   ]
  },
  {
   "cell_type": "code",
   "execution_count": 29,
   "id": "b774c636-3d1f-4b10-840a-8a6ca918723a",
   "metadata": {},
   "outputs": [
    {
     "name": "stdout",
     "output_type": "stream",
     "text": [
      "F1 Score on held out data 0.4044117647058824\n"
     ]
    }
   ],
   "source": [
    "clf1 = LogisticRegression(solver=\"liblinear\", random_state=132, max_iter=100, C=.75, penalty=\"l1\")\n",
    "\n",
    "clf1.fit(X_train, y_train)\n",
    "\n",
    "print(\"F1 Score on held out data\", f1_score(y_test, clf1.predict(X_test), average=\"micro\"))"
   ]
  },
  {
   "cell_type": "code",
   "execution_count": 30,
   "id": "3b605232-2f80-45d1-b65f-5bf281507b0a",
   "metadata": {},
   "outputs": [
    {
     "name": "stdout",
     "output_type": "stream",
     "text": [
      "               precision    recall  f1-score   support\n",
      "\n",
      "         ABOR      0.500     0.500     0.500         8\n",
      " AL1CHILDAGGR      0.222     0.500     0.308         4\n",
      " AL1CHILDBEDW      0.000     0.000     0.000         4\n",
      " AL1CHILDDSCH      0.308     1.000     0.471         4\n",
      "AL1CHILDNIGHT      0.000     0.000     0.000         4\n",
      "AL1CHILDQUIET      0.000     0.000     0.000         4\n",
      " AL1CHILDRSCH      0.000     0.000     0.000         4\n",
      "  CONCENTRATE      0.200     0.250     0.222         4\n",
      "      DISWORK      0.000     0.000     0.000         4\n",
      "      EMODIST      0.000     0.000     0.000         4\n",
      "    HEALTHAFF      0.200     0.500     0.286         4\n",
      "    HEALTHSTA      0.000     0.000     0.000         4\n",
      "         HURT      0.000     0.000     0.000         4\n",
      "          INJ      0.885     0.958     0.920        24\n",
      "      LOSCONF      0.333     0.750     0.462         4\n",
      "      LOSCONS      0.600     0.750     0.667         8\n",
      "         MISC      0.500     1.000     0.667         8\n",
      "         PAIN      0.000     0.000     0.000         4\n",
      "      PROBMEM      0.000     0.000     0.000         4\n",
      "    PROBUSUAL      0.000     0.000     0.000         4\n",
      "     PROBWALK      0.000     0.000     0.000         4\n",
      "        STILB      0.000     0.000     0.000         8\n",
      "   SUICIDEATT      0.143     0.500     0.222         4\n",
      "   SUICIDETHI      0.000     0.000     0.000         4\n",
      "         WORK      0.000     0.000     0.000         4\n",
      "\n",
      "     accuracy                          0.404       136\n",
      "    macro avg      0.156     0.268     0.189       136\n",
      " weighted avg      0.292     0.404     0.328       136\n",
      "\n"
     ]
    }
   ],
   "source": [
    "print(classification_report(y_test, clf1.predict(X_test), target_names=y.cat.categories, \n",
    "                            digits=3, zero_division=0))"
   ]
  },
  {
   "cell_type": "markdown",
   "id": "98881931-d5f5-45b5-834f-ed8b03050928",
   "metadata": {},
   "source": [
    "##### Bagging"
   ]
  },
  {
   "cell_type": "code",
   "execution_count": 31,
   "id": "ade9742a-206c-44e2-8357-ec4b8124eedd",
   "metadata": {},
   "outputs": [
    {
     "name": "stdout",
     "output_type": "stream",
     "text": [
      "Fitting 5 folds for each of 160 candidates, totalling 800 fits\n",
      "{'max_features': 0.85, 'max_samples': 0.85, 'n_estimators': 40}\n",
      "make_scorer(f1_score, pos_label=None, average=micro)\n",
      "Best cv score 0.35546522131887986\n",
      "F1 Score on held out data 0.4264705882352941\n"
     ]
    }
   ],
   "source": [
    "base = DecisionTreeClassifier(criterion=\"gini\", random_state=132, max_features=23, min_samples_leaf=5, max_depth=6, \n",
    "                                 max_leaf_nodes=15, min_impurity_decrease=.005)\n",
    "\n",
    "parameters = {'n_estimators':[25, 30, 35, 40, 50], 'max_samples' : [.60, .65, .7, .75, .8, .85, .9, 1],\n",
    "              'max_features' :[.55, .65, .75, .85]}\n",
    "\n",
    "clf2 = GridSearchCV(BaggingClassifier(base_estimator=base, random_state=132), parameters, \n",
    "                   scoring=\"f1_micro\", n_jobs=2, verbose=1, cv=5)\n",
    "\n",
    "clf2.fit(X_train, y_train)\n",
    "\n",
    "print(clf2.best_params_)\n",
    "print(clf2.scorer_)\n",
    "print(\"Best cv score\", clf2.best_score_)\n",
    "print(\"F1 Score on held out data\", f1_score(y_test, clf2.predict(X_test), average=\"micro\"))"
   ]
  },
  {
   "cell_type": "code",
   "execution_count": 32,
   "id": "00786ef6-a05c-4f2c-8d15-7a1e3cac9e82",
   "metadata": {},
   "outputs": [
    {
     "name": "stdout",
     "output_type": "stream",
     "text": [
      "               precision    recall  f1-score   support\n",
      "\n",
      "         ABOR      0.800     0.500     0.615         8\n",
      " AL1CHILDAGGR      0.250     0.250     0.250         4\n",
      " AL1CHILDBEDW      0.273     0.750     0.400         4\n",
      " AL1CHILDDSCH      0.500     0.500     0.500         4\n",
      "AL1CHILDNIGHT      0.000     0.000     0.000         4\n",
      "AL1CHILDQUIET      0.500     0.250     0.333         4\n",
      " AL1CHILDRSCH      0.000     0.000     0.000         4\n",
      "  CONCENTRATE      0.250     0.250     0.250         4\n",
      "      DISWORK      0.000     0.000     0.000         4\n",
      "      EMODIST      0.000     0.000     0.000         4\n",
      "    HEALTHAFF      0.333     0.500     0.400         4\n",
      "    HEALTHSTA      0.250     0.250     0.250         4\n",
      "         HURT      0.000     0.000     0.000         4\n",
      "          INJ      0.913     0.875     0.894        24\n",
      "      LOSCONF      0.250     0.250     0.250         4\n",
      "      LOSCONS      0.538     0.875     0.667         8\n",
      "         MISC      0.444     0.500     0.471         8\n",
      "         PAIN      0.000     0.000     0.000         4\n",
      "      PROBMEM      0.000     0.000     0.000         4\n",
      "    PROBUSUAL      0.133     0.500     0.211         4\n",
      "     PROBWALK      0.000     0.000     0.000         4\n",
      "        STILB      0.400     0.500     0.444         8\n",
      "   SUICIDEATT      0.286     0.500     0.364         4\n",
      "   SUICIDETHI      0.500     0.250     0.333         4\n",
      "         WORK      0.167     0.250     0.200         4\n",
      "\n",
      "     accuracy                          0.426       136\n",
      "    macro avg      0.272     0.310     0.273       136\n",
      " weighted avg      0.398     0.426     0.397       136\n",
      "\n"
     ]
    }
   ],
   "source": [
    "print(classification_report(y_test, clf2.predict(X_test), target_names=y.cat.categories, \n",
    "                            digits=3, zero_division=0))"
   ]
  },
  {
   "cell_type": "markdown",
   "id": "260d0a24-4b84-48c3-aaed-86cc3a19363b",
   "metadata": {},
   "source": [
    "##### Random Forest"
   ]
  },
  {
   "cell_type": "code",
   "execution_count": 33,
   "id": "cdfbc24d-36c8-4402-8161-662eeaa49c0b",
   "metadata": {},
   "outputs": [
    {
     "name": "stdout",
     "output_type": "stream",
     "text": [
      "Fitting 10 folds for each of 72 candidates, totalling 720 fits\n",
      "{'max_depth': 9, 'max_features': 42, 'max_leaf_nodes': 10, 'max_samples': 0.85, 'n_estimators': 100}\n",
      "make_scorer(f1_score, pos_label=None, average=micro)\n",
      "Best cv score 0.3826219512195122\n",
      "F1 Score on held out data 0.4411764705882353\n"
     ]
    }
   ],
   "source": [
    "parameters = {'n_estimators':[90, 100, 110],'max_depth' : [9,10,11], \n",
    "              'max_leaf_nodes':[5, 10], 'max_features':[\"log2\", 42],\n",
    "              'max_samples':[.85, .9]}\n",
    "\n",
    "clf3 = GridSearchCV(RandomForestClassifier(criterion=\"gini\", random_state=132), parameters, \n",
    "                   scoring=\"f1_micro\", n_jobs=2, verbose=1, cv=10)\n",
    "\n",
    "clf3.fit(X_train, y_train)\n",
    "\n",
    "print(clf3.best_params_)\n",
    "print(clf3.scorer_)\n",
    "print(\"Best cv score\", clf3.best_score_)\n",
    "print(\"F1 Score on held out data\", f1_score(y_test, clf3.predict(X_test), average=\"micro\"))"
   ]
  },
  {
   "cell_type": "code",
   "execution_count": 34,
   "id": "c0fd1e38-959b-452d-93b3-f8a0e25b5132",
   "metadata": {},
   "outputs": [
    {
     "name": "stdout",
     "output_type": "stream",
     "text": [
      "               precision    recall  f1-score   support\n",
      "\n",
      "         ABOR      0.800     0.500     0.615         8\n",
      " AL1CHILDAGGR      0.000     0.000     0.000         4\n",
      " AL1CHILDBEDW      0.214     0.750     0.333         4\n",
      " AL1CHILDDSCH      0.500     0.500     0.500         4\n",
      "AL1CHILDNIGHT      1.000     0.250     0.400         4\n",
      "AL1CHILDQUIET      0.333     0.250     0.286         4\n",
      " AL1CHILDRSCH      0.000     0.000     0.000         4\n",
      "  CONCENTRATE      0.231     0.750     0.353         4\n",
      "      DISWORK      0.000     0.000     0.000         4\n",
      "      EMODIST      0.000     0.000     0.000         4\n",
      "    HEALTHAFF      0.333     0.500     0.400         4\n",
      "    HEALTHSTA      0.250     0.250     0.250         4\n",
      "         HURT      0.000     0.000     0.000         4\n",
      "          INJ      0.913     0.875     0.894        24\n",
      "      LOSCONF      0.333     0.250     0.286         4\n",
      "      LOSCONS      0.538     0.875     0.667         8\n",
      "         MISC      1.000     0.375     0.545         8\n",
      "         PAIN      0.000     0.000     0.000         4\n",
      "      PROBMEM      0.667     0.500     0.571         4\n",
      "    PROBUSUAL      0.000     0.000     0.000         4\n",
      "     PROBWALK      0.000     0.000     0.000         4\n",
      "        STILB      0.438     0.875     0.583         8\n",
      "   SUICIDEATT      0.286     0.500     0.364         4\n",
      "   SUICIDETHI      0.000     0.000     0.000         4\n",
      "         WORK      0.000     0.000     0.000         4\n",
      "\n",
      "     accuracy                          0.441       136\n",
      "    macro avg      0.313     0.320     0.282       136\n",
      " weighted avg      0.446     0.441     0.410       136\n",
      "\n"
     ]
    }
   ],
   "source": [
    "print(classification_report(y_test, clf3.predict(X_test), target_names=y.cat.categories, \n",
    "                            digits=3, zero_division=0))"
   ]
  },
  {
   "cell_type": "markdown",
   "id": "a29ad34e-3b5c-4e8c-bfe4-f0d0206a8877",
   "metadata": {},
   "source": [
    "##### KNN"
   ]
  },
  {
   "cell_type": "code",
   "execution_count": 35,
   "id": "ad4d1a00-a044-4162-8379-cafd4e1ac80b",
   "metadata": {},
   "outputs": [
    {
     "name": "stdout",
     "output_type": "stream",
     "text": [
      "Fitting 5 folds for each of 100 candidates, totalling 500 fits\n",
      "{'leaf_size': 15, 'n_neighbors': 60, 'p': 2, 'weights': 'uniform'}\n",
      "make_scorer(f1_score, pos_label=None, average=micro)\n",
      "Best cv score 0.3480277024992472\n",
      "F1 Score on held out data 0.33088235294117646\n"
     ]
    }
   ],
   "source": [
    "parameters = {'n_neighbors':[40, 50, 60, 100, 130],'weights' : ('uniform', 'distance'), \n",
    "              'p':[1, 2], 'leaf_size':[10, 15, 20, 25, 30]}\n",
    "\n",
    "clf4 = GridSearchCV(KNeighborsClassifier(algorithm=\"kd_tree\"), parameters, \n",
    "                   scoring=\"f1_micro\", n_jobs=2, verbose=1, cv=5)\n",
    "\n",
    "clf4.fit(X_train, y_train)\n",
    "\n",
    "print(clf4.best_params_)\n",
    "print(clf4.scorer_)\n",
    "print(\"Best cv score\", clf4.best_score_)\n",
    "print(\"F1 Score on held out data\", f1_score(y_test, clf4.predict(X_test), average=\"micro\"))"
   ]
  },
  {
   "cell_type": "code",
   "execution_count": 36,
   "id": "490d1c47-41f3-4934-8dce-300e2d64a9e1",
   "metadata": {},
   "outputs": [
    {
     "name": "stdout",
     "output_type": "stream",
     "text": [
      "               precision    recall  f1-score   support\n",
      "\n",
      "         ABOR      0.500     0.500     0.500         8\n",
      " AL1CHILDAGGR      0.333     0.250     0.286         4\n",
      " AL1CHILDBEDW      0.250     0.750     0.375         4\n",
      " AL1CHILDDSCH      0.000     0.000     0.000         4\n",
      "AL1CHILDNIGHT      0.000     0.000     0.000         4\n",
      "AL1CHILDQUIET      0.000     0.000     0.000         4\n",
      " AL1CHILDRSCH      0.200     0.250     0.222         4\n",
      "  CONCENTRATE      0.111     0.250     0.154         4\n",
      "      DISWORK      0.000     0.000     0.000         4\n",
      "      EMODIST      0.000     0.000     0.000         4\n",
      "    HEALTHAFF      0.200     0.250     0.222         4\n",
      "    HEALTHSTA      0.000     0.000     0.000         4\n",
      "         HURT      0.000     0.000     0.000         4\n",
      "          INJ      0.649     1.000     0.787        24\n",
      "      LOSCONF      0.200     0.250     0.222         4\n",
      "      LOSCONS      0.000     0.000     0.000         8\n",
      "         MISC      0.500     0.875     0.636         8\n",
      "         PAIN      0.500     0.250     0.333         4\n",
      "      PROBMEM      0.000     0.000     0.000         4\n",
      "    PROBUSUAL      0.000     0.000     0.000         4\n",
      "     PROBWALK      0.000     0.000     0.000         4\n",
      "        STILB      0.000     0.000     0.000         8\n",
      "   SUICIDEATT      0.143     0.250     0.182         4\n",
      "   SUICIDETHI      0.000     0.000     0.000         4\n",
      "         WORK      0.000     0.000     0.000         4\n",
      "\n",
      "     accuracy                          0.331       136\n",
      "    macro avg      0.143     0.195     0.157       136\n",
      " weighted avg      0.230     0.331     0.264       136\n",
      "\n"
     ]
    }
   ],
   "source": [
    "print(classification_report(y_test, clf4.predict(X_test), target_names=y.cat.categories, \n",
    "                            digits=3, zero_division=0))"
   ]
  },
  {
   "cell_type": "markdown",
   "id": "2eda56ff-d886-4662-b476-8adbf400040b",
   "metadata": {},
   "source": [
    "##### SVM"
   ]
  },
  {
   "cell_type": "code",
   "execution_count": 37,
   "id": "95d87838-300e-4cd8-a68f-901e22bc29a0",
   "metadata": {},
   "outputs": [
    {
     "name": "stdout",
     "output_type": "stream",
     "text": [
      "Fitting 5 folds for each of 180 candidates, totalling 900 fits\n",
      "{'C': 1, 'degree': 1, 'kernel': 'sigmoid', 'tol': 0.01}\n",
      "make_scorer(f1_score, pos_label=None, average=micro)\n",
      "Best cv score 0.32098765432098764\n",
      "F1 Score on held out data 0.3161764705882353\n"
     ]
    }
   ],
   "source": [
    "parameters = {'kernel':('linear', 'sigmoid', 'poly'), 'C':[.1, .5, 1, 2, 15], \"tol\":[1e-2, 2e-3, 1e-3, 1e-4],\n",
    "             'degree':[1,2,3]}\n",
    "\n",
    "clf5 = GridSearchCV(SVC(random_state=132), parameters, verbose=1, n_jobs=2, cv=5, scoring=\"f1_micro\")\n",
    "\n",
    "clf5.fit(X_train, y_train)\n",
    "\n",
    "print(clf5.best_params_)\n",
    "print(clf5.scorer_)\n",
    "print(\"Best cv score\", clf5.best_score_)\n",
    "print(\"F1 Score on held out data\", f1_score(y_test, clf5.predict(X_test), average=\"micro\"))"
   ]
  },
  {
   "cell_type": "code",
   "execution_count": 38,
   "id": "baf99350-b78b-465b-bf88-c012a8b35560",
   "metadata": {},
   "outputs": [
    {
     "name": "stdout",
     "output_type": "stream",
     "text": [
      "               precision    recall  f1-score   support\n",
      "\n",
      "         ABOR      0.400     0.500     0.444         8\n",
      " AL1CHILDAGGR      0.200     0.250     0.222         4\n",
      " AL1CHILDBEDW      0.000     0.000     0.000         4\n",
      " AL1CHILDDSCH      0.250     0.250     0.250         4\n",
      "AL1CHILDNIGHT      0.000     0.000     0.000         4\n",
      "AL1CHILDQUIET      0.000     0.000     0.000         4\n",
      " AL1CHILDRSCH      0.000     0.000     0.000         4\n",
      "  CONCENTRATE      0.167     0.250     0.200         4\n",
      "      DISWORK      0.000     0.000     0.000         4\n",
      "      EMODIST      0.000     0.000     0.000         4\n",
      "    HEALTHAFF      0.250     0.500     0.333         4\n",
      "    HEALTHSTA      0.000     0.000     0.000         4\n",
      "         HURT      0.000     0.000     0.000         4\n",
      "          INJ      0.840     0.875     0.857        24\n",
      "      LOSCONF      1.000     0.250     0.400         4\n",
      "      LOSCONS      0.455     0.625     0.526         8\n",
      "         MISC      1.000     0.250     0.400         8\n",
      "         PAIN      0.000     0.000     0.000         4\n",
      "      PROBMEM      0.000     0.000     0.000         4\n",
      "    PROBUSUAL      0.000     0.000     0.000         4\n",
      "     PROBWALK      0.000     0.000     0.000         4\n",
      "        STILB      0.250     0.375     0.300         8\n",
      "   SUICIDEATT      0.083     0.250     0.125         4\n",
      "   SUICIDETHI      0.000     0.000     0.000         4\n",
      "         WORK      0.143     0.250     0.182         4\n",
      "\n",
      "     accuracy                          0.316       136\n",
      "    macro avg      0.201     0.185     0.170       136\n",
      " weighted avg      0.334     0.316     0.300       136\n",
      "\n"
     ]
    }
   ],
   "source": [
    "print(classification_report(y_test, clf5.predict(X_test), target_names=y.cat.categories, \n",
    "                            digits=3, zero_division=0))"
   ]
  },
  {
   "cell_type": "markdown",
   "id": "20a41cff-66c4-4044-8fc9-84ab4c6d1180",
   "metadata": {},
   "source": [
    "##### Neural Networks"
   ]
  },
  {
   "cell_type": "code",
   "execution_count": 39,
   "id": "d7414de1-1d2c-4314-b6c2-42b1dbbeed02",
   "metadata": {},
   "outputs": [
    {
     "name": "stdout",
     "output_type": "stream",
     "text": [
      "F1 Score on held out data 0.4117647058823529\n"
     ]
    }
   ],
   "source": [
    "parameters = {'activation':('logistic', 'tanh'), 'hidden_layer_sizes':((32,64),(64,64)),\n",
    "             'learning_rate_init':[1e-5, 1e-4, 1e-3]}\n",
    "\n",
    "clf6 = MLPClassifier(hidden_layer_sizes=(256,256), activation=\"logistic\", learning_rate_init=3e-3,\n",
    "                    max_iter=2000, random_state=42, tol=0.01)\n",
    "\n",
    "clf6.fit(X_train, y_train)\n",
    "\n",
    "print(\"F1 Score on held out data\", f1_score(y_test, clf6.predict(X_test), average=\"micro\"))"
   ]
  },
  {
   "cell_type": "code",
   "execution_count": 40,
   "id": "342e5f49-5d09-49da-8982-5f69c2a0b21f",
   "metadata": {},
   "outputs": [
    {
     "name": "stdout",
     "output_type": "stream",
     "text": [
      "               precision    recall  f1-score   support\n",
      "\n",
      "         ABOR      0.000     0.000     0.000         8\n",
      " AL1CHILDAGGR      0.000     0.000     0.000         4\n",
      " AL1CHILDBEDW      0.000     0.000     0.000         4\n",
      " AL1CHILDDSCH      0.250     0.500     0.333         4\n",
      "AL1CHILDNIGHT      0.250     1.000     0.400         4\n",
      "AL1CHILDQUIET      0.000     0.000     0.000         4\n",
      " AL1CHILDRSCH      0.000     0.000     0.000         4\n",
      "  CONCENTRATE      0.000     0.000     0.000         4\n",
      "      DISWORK      0.000     0.000     0.000         4\n",
      "      EMODIST      0.000     0.000     0.000         4\n",
      "    HEALTHAFF      0.222     0.500     0.308         4\n",
      "    HEALTHSTA      0.000     0.000     0.000         4\n",
      "         HURT      0.000     0.000     0.000         4\n",
      "          INJ      0.885     0.958     0.920        24\n",
      "      LOSCONF      0.000     0.000     0.000         4\n",
      "      LOSCONS      0.600     0.750     0.667         8\n",
      "         MISC      0.538     0.875     0.667         8\n",
      "         PAIN      0.000     0.000     0.000         4\n",
      "      PROBMEM      0.000     0.000     0.000         4\n",
      "    PROBUSUAL      0.000     0.000     0.000         4\n",
      "     PROBWALK      0.000     0.000     0.000         4\n",
      "        STILB      0.364     0.500     0.421         8\n",
      "   SUICIDEATT      0.000     0.000     0.000         4\n",
      "   SUICIDETHI      0.148     1.000     0.258         4\n",
      "         WORK      0.250     1.000     0.400         4\n",
      "\n",
      "     accuracy                          0.412       136\n",
      "    macro avg      0.140     0.283     0.175       136\n",
      " weighted avg      0.277     0.412     0.316       136\n",
      "\n"
     ]
    }
   ],
   "source": [
    "print(classification_report(y_test, clf6.predict(X_test), target_names=y.cat.categories, \n",
    "                            digits=3, zero_division=0))"
   ]
  },
  {
   "cell_type": "markdown",
   "id": "473424e0-ddf9-446c-b5b5-113d056aa9cf",
   "metadata": {},
   "source": [
    "##### Gradient Boosting"
   ]
  },
  {
   "cell_type": "code",
   "execution_count": 41,
   "id": "4b8ce737-7597-49c3-8b3b-94c6d81a353c",
   "metadata": {},
   "outputs": [
    {
     "name": "stdout",
     "output_type": "stream",
     "text": [
      "F1 Score on held out data 0.25735294117647056\n"
     ]
    }
   ],
   "source": [
    "clf7 = GradientBoostingClassifier(learning_rate=0.05, n_estimators=100,\n",
    "                                subsample=.9, min_samples_split=10, \n",
    "                                 random_state=142, max_features=30,\n",
    "                                max_depth=30)\n",
    "\n",
    "clf7.fit(X_train, y_train)\n",
    "print(\"F1 Score on held out data\", f1_score(y_test, clf7.predict(X_test), average=\"micro\"))"
   ]
  },
  {
   "cell_type": "code",
   "execution_count": 42,
   "id": "d131c94c-395f-4766-9b0f-8d16753649b7",
   "metadata": {},
   "outputs": [
    {
     "name": "stdout",
     "output_type": "stream",
     "text": [
      "               precision    recall  f1-score   support\n",
      "\n",
      "         ABOR      0.417     0.625     0.500         8\n",
      " AL1CHILDAGGR      0.000     0.000     0.000         4\n",
      " AL1CHILDBEDW      0.000     0.000     0.000         4\n",
      " AL1CHILDDSCH      0.250     0.250     0.250         4\n",
      "AL1CHILDNIGHT      0.000     0.000     0.000         4\n",
      "AL1CHILDQUIET      0.000     0.000     0.000         4\n",
      " AL1CHILDRSCH      0.000     0.000     0.000         4\n",
      "  CONCENTRATE      0.000     0.000     0.000         4\n",
      "      DISWORK      0.000     0.000     0.000         4\n",
      "      EMODIST      0.000     0.000     0.000         4\n",
      "    HEALTHAFF      0.167     0.250     0.200         4\n",
      "    HEALTHSTA      0.333     0.250     0.286         4\n",
      "         HURT      0.250     0.250     0.250         4\n",
      "          INJ      0.833     0.833     0.833        24\n",
      "      LOSCONF      0.000     0.000     0.000         4\n",
      "      LOSCONS      0.250     0.250     0.250         8\n",
      "         MISC      0.429     0.375     0.400         8\n",
      "         PAIN      0.000     0.000     0.000         4\n",
      "      PROBMEM      0.000     0.000     0.000         4\n",
      "    PROBUSUAL      0.000     0.000     0.000         4\n",
      "     PROBWALK      0.000     0.000     0.000         4\n",
      "        STILB      0.200     0.125     0.154         8\n",
      "   SUICIDEATT      0.000     0.000     0.000         4\n",
      "   SUICIDETHI      0.000     0.000     0.000         4\n",
      "         WORK      0.000     0.000     0.000         4\n",
      "\n",
      "     accuracy                          0.257       136\n",
      "    macro avg      0.125     0.128     0.125       136\n",
      " weighted avg      0.253     0.257     0.253       136\n",
      "\n"
     ]
    }
   ],
   "source": [
    "print(classification_report(y_test, clf7.predict(X_test), target_names=y.cat.categories, \n",
    "                            digits=3, zero_division=0))"
   ]
  },
  {
   "cell_type": "markdown",
   "id": "ac2cec8a-202a-4a32-a6ba-d8187b17e978",
   "metadata": {},
   "source": [
    "##### LDA"
   ]
  },
  {
   "cell_type": "code",
   "execution_count": 43,
   "id": "a16f60c9-84f7-4da4-935b-aa70b12b7ab1",
   "metadata": {},
   "outputs": [
    {
     "name": "stdout",
     "output_type": "stream",
     "text": [
      "Fitting 5 folds for each of 6 candidates, totalling 30 fits\n",
      "{'solver': 'svd', 'tol': 1e-05}\n",
      "make_scorer(f1_score, pos_label=None, average=micro)\n",
      "Best cv score 0.12252333634447454\n",
      "F1 Score on held out data 0.11029411764705882\n"
     ]
    }
   ],
   "source": [
    "parameters = {'solver':('lsqr', 'svd'), 'tol':[1e-5, 1e-4, 1e-3]}\n",
    "\n",
    "clf8 = GridSearchCV(LinearDiscriminantAnalysis(), parameters, verbose=1, n_jobs=2, cv=5, scoring=\"f1_micro\")\n",
    "\n",
    "clf8.fit(X_train, y_train)\n",
    "\n",
    "print(clf8.best_params_)\n",
    "print(clf8.scorer_)\n",
    "print(\"Best cv score\", clf8.best_score_)\n",
    "print(\"F1 Score on held out data\", f1_score(y_test, clf8.predict(X_test), average=\"micro\"))"
   ]
  },
  {
   "cell_type": "code",
   "execution_count": 44,
   "id": "4423963b-35da-46d2-bf22-d79e04e539f2",
   "metadata": {},
   "outputs": [
    {
     "name": "stdout",
     "output_type": "stream",
     "text": [
      "               precision    recall  f1-score   support\n",
      "\n",
      "         ABOR      0.045     0.125     0.067         8\n",
      " AL1CHILDAGGR      0.000     0.000     0.000         4\n",
      " AL1CHILDBEDW      0.000     0.000     0.000         4\n",
      " AL1CHILDDSCH      0.000     0.000     0.000         4\n",
      "AL1CHILDNIGHT      0.000     0.000     0.000         4\n",
      "AL1CHILDQUIET      0.000     0.000     0.000         4\n",
      " AL1CHILDRSCH      0.000     0.000     0.000         4\n",
      "  CONCENTRATE      0.000     0.000     0.000         4\n",
      "      DISWORK      0.000     0.000     0.000         4\n",
      "      EMODIST      0.000     0.000     0.000         4\n",
      "    HEALTHAFF      0.143     0.250     0.182         4\n",
      "    HEALTHSTA      0.000     0.000     0.000         4\n",
      "         HURT      0.167     0.500     0.250         4\n",
      "          INJ      0.092     0.250     0.135        24\n",
      "      LOSCONF      0.000     0.000     0.000         4\n",
      "      LOSCONS      0.500     0.625     0.556         8\n",
      "         MISC      0.000     0.000     0.000         8\n",
      "         PAIN      0.000     0.000     0.000         4\n",
      "      PROBMEM      0.000     0.000     0.000         4\n",
      "    PROBUSUAL      0.000     0.000     0.000         4\n",
      "     PROBWALK      0.000     0.000     0.000         4\n",
      "        STILB      0.000     0.000     0.000         8\n",
      "   SUICIDEATT      0.000     0.000     0.000         4\n",
      "   SUICIDETHI      0.000     0.000     0.000         4\n",
      "         WORK      0.000     0.000     0.000         4\n",
      "\n",
      "     accuracy                          0.110       136\n",
      "    macro avg      0.038     0.070     0.048       136\n",
      " weighted avg      0.057     0.110     0.073       136\n",
      "\n"
     ]
    }
   ],
   "source": [
    "print(classification_report(y_test, clf8.predict(X_test), target_names=y.cat.categories, \n",
    "                            digits=3, zero_division=0))"
   ]
  },
  {
   "cell_type": "markdown",
   "id": "3711a7a8-020d-491d-9b33-0e5d43b03de9",
   "metadata": {},
   "source": [
    "##### NuSVC"
   ]
  },
  {
   "cell_type": "code",
   "execution_count": 45,
   "id": "d0c57603-941a-4aff-b4be-4f83e35c7aac",
   "metadata": {},
   "outputs": [
    {
     "name": "stdout",
     "output_type": "stream",
     "text": [
      "Fitting 5 folds for each of 45 candidates, totalling 225 fits\n",
      "{'kernel': 'rbf', 'nu': 0.001, 'tol': 0.01}\n",
      "make_scorer(f1_score, pos_label=None, average=micro)\n",
      "Best cv score 0.3310448660042156\n",
      "F1 Score on held out data 0.3014705882352941\n"
     ]
    }
   ],
   "source": [
    "parameters = {'nu' : [2e-3, 1e-3, 3e-3, 1e-1, .15], 'kernel':('poly','rbf','linear'),\n",
    "             'tol':[1e-4, 1e-3, 1e-2]}\n",
    "\n",
    "clf9 = GridSearchCV(NuSVC(random_state=142), parameters, verbose=1, n_jobs=2, cv=5, scoring=\"f1_micro\")\n",
    "\n",
    "clf9.fit(X_train, y_train)\n",
    "\n",
    "print(clf9.best_params_)\n",
    "print(clf9.scorer_)\n",
    "print(\"Best cv score\", clf9.best_score_)\n",
    "print(\"F1 Score on held out data\", f1_score(y_test, clf9.predict(X_test), average=\"micro\"))"
   ]
  },
  {
   "cell_type": "code",
   "execution_count": 46,
   "id": "e5d5fa12-0c3e-4440-907a-70325cd7b178",
   "metadata": {},
   "outputs": [
    {
     "name": "stdout",
     "output_type": "stream",
     "text": [
      "               precision    recall  f1-score   support\n",
      "\n",
      "         ABOR      0.000     0.000     0.000         8\n",
      " AL1CHILDAGGR      0.067     0.250     0.105         4\n",
      " AL1CHILDBEDW      0.000     0.000     0.000         4\n",
      " AL1CHILDDSCH      0.000     0.000     0.000         4\n",
      "AL1CHILDNIGHT      0.000     0.000     0.000         4\n",
      "AL1CHILDQUIET      0.000     0.000     0.000         4\n",
      " AL1CHILDRSCH      0.000     0.000     0.000         4\n",
      "  CONCENTRATE      0.000     0.000     0.000         4\n",
      "      DISWORK      0.000     0.000     0.000         4\n",
      "      EMODIST      0.000     0.000     0.000         4\n",
      "    HEALTHAFF      0.000     0.000     0.000         4\n",
      "    HEALTHSTA      0.000     0.000     0.000         4\n",
      "         HURT      0.000     0.000     0.000         4\n",
      "          INJ      0.840     0.875     0.857        24\n",
      "      LOSCONF      0.000     0.000     0.000         4\n",
      "      LOSCONS      0.455     0.625     0.526         8\n",
      "         MISC      0.000     0.000     0.000         8\n",
      "         PAIN      0.000     0.000     0.000         4\n",
      "      PROBMEM      0.000     0.000     0.000         4\n",
      "    PROBUSUAL      0.500     0.250     0.333         4\n",
      "     PROBWALK      0.000     0.000     0.000         4\n",
      "        STILB      0.318     0.875     0.467         8\n",
      "   SUICIDEATT      0.138     1.000     0.242         4\n",
      "   SUICIDETHI      0.000     0.000     0.000         4\n",
      "         WORK      0.167     0.500     0.250         4\n",
      "\n",
      "     accuracy                          0.301       136\n",
      "    macro avg      0.099     0.175     0.111       136\n",
      " weighted avg      0.219     0.301     0.237       136\n",
      "\n"
     ]
    }
   ],
   "source": [
    "print(classification_report(y_test, clf9.predict(X_test), target_names=y.cat.categories, \n",
    "                            digits=3, zero_division=0))"
   ]
  },
  {
   "cell_type": "markdown",
   "id": "ce57b5ca-4d30-485f-8241-0a6e08bb638c",
   "metadata": {},
   "source": [
    "##### XGBoost"
   ]
  },
  {
   "cell_type": "code",
   "execution_count": 47,
   "id": "920b1f8f-38e8-40bd-a93f-e41c389c390c",
   "metadata": {},
   "outputs": [
    {
     "name": "stdout",
     "output_type": "stream",
     "text": [
      "F1 Score on held out data 0.4264705882352941\n"
     ]
    }
   ],
   "source": [
    "xgboost_params = {'objective':'binary:logistic', 'n_estimators': 50, 'max_depth': 2, 'learning_rate': 1e-2,\n",
    "                 'verbosity':0, 'booster':'gbtree', 'gamma': 1.25, 'random_state':142, 'eval_metric':'mlogloss',\n",
    "                 'use_label_encoder' : (False)}\n",
    "\n",
    "clf10 = MultiOutputClassifier(XGBClassifier(**xgboost_params), n_jobs=2)\n",
    "\n",
    "clf10.fit(X_train, y_train[:, np.newaxis])\n",
    "\n",
    "print(\"F1 Score on held out data\", f1_score(y_test, clf10.predict(X_test), average=\"micro\"))"
   ]
  },
  {
   "cell_type": "code",
   "execution_count": 48,
   "id": "8bd290f5-06a7-4351-b776-8c4f160dc1a4",
   "metadata": {},
   "outputs": [
    {
     "name": "stdout",
     "output_type": "stream",
     "text": [
      "               precision    recall  f1-score   support\n",
      "\n",
      "         ABOR      0.571     0.500     0.533         8\n",
      " AL1CHILDAGGR      0.250     0.250     0.250         4\n",
      " AL1CHILDBEDW      0.000     0.000     0.000         4\n",
      " AL1CHILDDSCH      0.235     1.000     0.381         4\n",
      "AL1CHILDNIGHT      0.000     0.000     0.000         4\n",
      "AL1CHILDQUIET      0.500     0.250     0.333         4\n",
      " AL1CHILDRSCH      0.000     0.000     0.000         4\n",
      "  CONCENTRATE      1.000     0.500     0.667         4\n",
      "      DISWORK      0.000     0.000     0.000         4\n",
      "      EMODIST      0.000     0.000     0.000         4\n",
      "    HEALTHAFF      0.222     0.500     0.308         4\n",
      "    HEALTHSTA      1.000     0.250     0.400         4\n",
      "         HURT      0.000     0.000     0.000         4\n",
      "          INJ      0.913     0.875     0.894        24\n",
      "      LOSCONF      0.286     1.000     0.444         4\n",
      "      LOSCONS      0.538     0.875     0.667         8\n",
      "         MISC      0.471     1.000     0.640         8\n",
      "         PAIN      0.000     0.000     0.000         4\n",
      "      PROBMEM      0.000     0.000     0.000         4\n",
      "    PROBUSUAL      0.000     0.000     0.000         4\n",
      "     PROBWALK      0.000     0.000     0.000         4\n",
      "        STILB      0.000     0.000     0.000         8\n",
      "   SUICIDEATT      0.143     0.750     0.240         4\n",
      "   SUICIDETHI      0.000     0.000     0.000         4\n",
      "         WORK      0.000     0.000     0.000         4\n",
      "\n",
      "     accuracy                          0.426       136\n",
      "    macro avg      0.245     0.310     0.230       136\n",
      " weighted avg      0.361     0.426     0.355       136\n",
      "\n"
     ]
    }
   ],
   "source": [
    "print(classification_report(y_test, clf10.predict(X_test), target_names=y.cat.categories, \n",
    "                            digits=3, zero_division=0))"
   ]
  },
  {
   "cell_type": "markdown",
   "id": "fc848b97-a210-4ae6-be88-6a3e37052e9c",
   "metadata": {},
   "source": [
    "##### AdaBoost"
   ]
  },
  {
   "cell_type": "code",
   "execution_count": 49,
   "id": "632fd201-8a76-476f-acb4-60048e5967b9",
   "metadata": {},
   "outputs": [
    {
     "name": "stdout",
     "output_type": "stream",
     "text": [
      "Fitting 5 folds for each of 35 candidates, totalling 175 fits\n",
      "{'learning_rate': 0.5, 'n_estimators': 20}\n",
      "make_scorer(f1_score, pos_label=None, average=micro)\n",
      "Best cv score 0.32363745859680815\n",
      "F1 Score on held out data 0.3382352941176471\n"
     ]
    }
   ],
   "source": [
    "adaboost_params = {'n_estimators' : [10, 20, 30, 40, 50, 75, 100], 'learning_rate' : [1e-2, 5e-2, 5e-1, 1e-1, 1,]}\n",
    "\n",
    "clf11 = GridSearchCV(AdaBoostClassifier(random_state=132), \n",
    "                     adaboost_params, verbose=1, n_jobs=2, cv=5, scoring=\"f1_micro\")\n",
    "\n",
    "clf11.fit(X_train, y_train)\n",
    "\n",
    "print(clf11.best_params_)\n",
    "print(clf11.scorer_)\n",
    "print(\"Best cv score\", clf11.best_score_)\n",
    "print(\"F1 Score on held out data\", f1_score(y_test, clf11.predict(X_test), average=\"micro\"))"
   ]
  },
  {
   "cell_type": "code",
   "execution_count": 50,
   "id": "f9e2ed1f-2ae7-4058-a011-7b1ffe6b52f3",
   "metadata": {},
   "outputs": [
    {
     "name": "stdout",
     "output_type": "stream",
     "text": [
      "               precision    recall  f1-score   support\n",
      "\n",
      "         ABOR      0.333     1.000     0.500         8\n",
      " AL1CHILDAGGR      0.000     0.000     0.000         4\n",
      " AL1CHILDBEDW      0.174     1.000     0.296         4\n",
      " AL1CHILDDSCH      0.000     0.000     0.000         4\n",
      "AL1CHILDNIGHT      0.000     0.000     0.000         4\n",
      "AL1CHILDQUIET      0.000     0.000     0.000         4\n",
      " AL1CHILDRSCH      0.000     0.000     0.000         4\n",
      "  CONCENTRATE      0.250     1.000     0.400         4\n",
      "      DISWORK      0.000     0.000     0.000         4\n",
      "      EMODIST      0.133     1.000     0.235         4\n",
      "    HEALTHAFF      0.333     0.500     0.400         4\n",
      "    HEALTHSTA      0.000     0.000     0.000         4\n",
      "         HURT      0.000     0.000     0.000         4\n",
      "          INJ      0.667     1.000     0.800        24\n",
      "      LOSCONF      0.000     0.000     0.000         4\n",
      "      LOSCONS      0.000     0.000     0.000         8\n",
      "         MISC      0.000     0.000     0.000         8\n",
      "         PAIN      0.000     0.000     0.000         4\n",
      "      PROBMEM      0.000     0.000     0.000         4\n",
      "    PROBUSUAL      0.000     0.000     0.000         4\n",
      "     PROBWALK      0.000     0.000     0.000         4\n",
      "        STILB      0.000     0.000     0.000         8\n",
      "   SUICIDEATT      0.000     0.000     0.000         4\n",
      "   SUICIDETHI      0.000     0.000     0.000         4\n",
      "         WORK      0.000     0.000     0.000         4\n",
      "\n",
      "     accuracy                          0.338       136\n",
      "    macro avg      0.076     0.220     0.105       136\n",
      " weighted avg      0.163     0.338     0.210       136\n",
      "\n"
     ]
    }
   ],
   "source": [
    "print(classification_report(y_test, clf11.predict(X_test), target_names=y.cat.categories, \n",
    "                            digits=3, zero_division=0))"
   ]
  },
  {
   "cell_type": "code",
   "execution_count": 51,
   "id": "97a6ff02-0c29-44ae-ae25-4fa8606db437",
   "metadata": {},
   "outputs": [],
   "source": [
    "# Define a classifier to use for predictions\n",
    "# we choose the one with the highest accuracy, in our case the Random Forest (clf3)\n",
    "best_classifier = max([(clf, clf.score(X_test, y_test.reshape(-1,1))) for clf in \n",
    "                        [clf0, clf1, clf2, clf3, clf4, clf5, clf6, clf7, clf8, clf9, clf10, clf11]], key=lambda x : x[1])[0]\n",
    "\n",
    "clf = best_classifier"
   ]
  },
  {
   "cell_type": "code",
   "execution_count": 52,
   "id": "0e920ea7-8994-4542-a89f-71934c4fd97c",
   "metadata": {},
   "outputs": [
    {
     "data": {
      "image/png": "[encoded data removed]",
      "text/plain": [
       "<Figure size 720x720 with 1 Axes>"
      ]
     },
     "metadata": {},
     "output_type": "display_data"
    }
   ],
   "source": [
    "# HeatMap\n",
    "conf_matrix_df = pd.DataFrame(confusion_matrix(y_test, clf.predict(X_test)), \n",
    "                              y.cat.categories, y.cat.categories)\n",
    "\n",
    "plt.figure(figsize=(10,10))\n",
    "sns.set(font_scale=1)\n",
    "sns.heatmap(conf_matrix_df, annot=True, cmap=\"OrRd\", annot_kws={'size':12},cbar=False, \n",
    "            linewidths=1.2, linecolor=\"lightgrey\")\n",
    "plt.show()"
   ]
  },
  {
   "cell_type": "markdown",
   "id": "f74f5579-9112-4bcb-b03d-22a7838f3d7d",
   "metadata": {},
   "source": [
    "#### Predict unknown values"
   ]
  },
  {
   "cell_type": "code",
   "execution_count": 53,
   "id": "50d675fa-ead5-43b0-9bfc-bef590db14dd",
   "metadata": {},
   "outputs": [],
   "source": [
    "df_unk = df[ df[\"OUTCOME\"].isna() ].copy()"
   ]
  },
  {
   "cell_type": "code",
   "execution_count": 54,
   "id": "2ae8a558-bbef-486f-b9a1-3d6f183e8f62",
   "metadata": {},
   "outputs": [],
   "source": [
    "# Follow the same pipeline as before to convert this dataframe to a format that can be passed in a classifier\n",
    "\n",
    "X_unk = df_unk.drop(columns=[\"OUTCOME\"])\n",
    "X_unk_cp = X_unk.copy()\n",
    "\n",
    "column_names = X_unk.columns"
   ]
  },
  {
   "cell_type": "code",
   "execution_count": 55,
   "id": "9ea53350-906d-4e2e-985e-39bda04fe990",
   "metadata": {},
   "outputs": [],
   "source": [
    "X_unk = X_unk.drop(columns=[\"TIME_PERIOD\"])\n",
    "X_unk = X_unk[X.columns]"
   ]
  },
  {
   "cell_type": "code",
   "execution_count": 56,
   "id": "95ede558-a9ea-401a-a2d0-f38fb5bfb365",
   "metadata": {},
   "outputs": [],
   "source": [
    "X_unk[\"OBS_VALUE\"] = imputer_numeric.transform(X_unk[\"OBS_VALUE\"].values.reshape(-1,1))\n",
    "X_unk = pd.DataFrame(imputer.transform(X_unk), columns=X_unk.columns)\n",
    "X_unk = col_transformer_train.transform(X_unk).toarray()"
   ]
  },
  {
   "cell_type": "code",
   "execution_count": 57,
   "id": "c60a9771-db92-4c8e-ab79-a8e3d0607338",
   "metadata": {},
   "outputs": [],
   "source": [
    "y_unk = le.inverse_transform(clf.predict(X_unk).ravel())"
   ]
  },
  {
   "cell_type": "code",
   "execution_count": 58,
   "id": "60f66e0f-5e82-412e-af28-55449e1a2b24",
   "metadata": {},
   "outputs": [],
   "source": [
    "predicted_df = pd.concat([X_unk_cp, pd.DataFrame(y_unk, index=X_unk_cp.index, \n",
    "                        columns=[\"PREDICTED_OUTCOME\"])], axis=\"columns\")"
   ]
  },
  {
   "cell_type": "code",
   "execution_count": 59,
   "id": "4e681f80-fa12-4e51-b807-9dddb3739299",
   "metadata": {},
   "outputs": [
    {
     "data": {
      "image/png": "[encoded data removed]",
      "text/plain": [
       "<Figure size 720x576 with 1 Axes>"
      ]
     },
     "metadata": {},
     "output_type": "display_data"
    }
   ],
   "source": [
    "ax = predicted_df[\"PREDICTED_OUTCOME\"].value_counts(normalize=True, ascending=True).plot.barh(\n",
    "                                                                            figsize=(10,8), width=.8)\n",
    "\n",
    "ax.set_title(\"Predictions of Violence against Women\",fontsize=15)\n",
    "ax.set_xlabel(\"Predicted outcome of VAW in % of total cases with NA values\", fontsize=12)\n",
    "\n",
    "plt.show()"
   ]
  },
  {
   "cell_type": "code",
   "execution_count": 60,
   "id": "ca3b7630-42b5-4ae0-9649-d0e5e4767484",
   "metadata": {},
   "outputs": [],
   "source": [
    "# Write final DF with the predictions to a CSV file\n",
    "try:\n",
    "    predicted_df.to_csv(\"Predict_VAW.csv\", na_rep=\"NA\", float_format=\"%.2f\", index=False, encoding=\"utf-8\")\n",
    "except IOError as e:\n",
    "    print(\"ERROR when trying to write to file\", e)"
   ]
  },
  {
   "cell_type": "code",
   "execution_count": null,
   "id": "3d93a18b-355f-4888-b379-aa01ac7756ed",
   "metadata": {},
   "outputs": [],
   "source": []
  }
 ],
 "metadata": {
  "kernelspec": {
   "display_name": "Python 3 (ipykernel)",
   "language": "python",
   "name": "python3"
  },
  "language_info": {
   "codemirror_mode": {
    "name": "ipython",
    "version": 3
   },
   "file_extension": ".py",
   "mimetype": "text/x-python",
   "name": "python",
   "nbconvert_exporter": "python",
   "pygments_lexer": "ipython3",
   "version": "3.9.7"
  }
 },
 "nbformat": 4,
 "nbformat_minor": 5
}
